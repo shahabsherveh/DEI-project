{
 "cells": [
  {
   "cell_type": "code",
   "execution_count": 1,
   "id": "a9e932b3-da6d-49fd-af17-700d1ca703f1",
   "metadata": {
    "editable": true,
    "slideshow": {
     "slide_type": ""
    },
    "tags": []
   },
   "outputs": [],
   "source": [
    "from scalability_testing import *\n",
    "import re\n",
    "import pandas as pd\n",
    "import csv\n",
    "import pyspark.sql.functions as F\n",
    "from pyspark.sql.functions import col, udf, lower, count, regexp_replace\n",
    "from pyspark.sql.types import StringType, IntegerType\n",
    "from collections import Counter"
   ]
  },
  {
   "cell_type": "code",
   "execution_count": 2,
   "id": "ae800c96-774f-4b50-9375-299a09699b55",
   "metadata": {
    "editable": true,
    "slideshow": {
     "slide_type": ""
    },
    "tags": []
   },
   "outputs": [],
   "source": [
    "def sentiment_analysis(df):\n",
    "\n",
    "    botlist_path=\"/home/ubuntu/DEI-project/preprocessing/preprocessing files/botlist.csv\"\n",
    "    positive_words_file = \"/home/ubuntu/DEI-project/preprocessing/preprocessing files/positive_words.csv\"\n",
    "    negative_words_file = \"/home/ubuntu/DEI-project/preprocessing/preprocessing files/negative_words.csv\"\n",
    "\n",
    "    ############################# Pre Processing #############################\n",
    "    # Select relevant columns\n",
    "    df = df.select(\"author\", \"subreddit\", \"normalizedBody\")\n",
    "\n",
    "    # Load bot list\n",
    "    bot_df = pd.read_csv(botlist_path)\n",
    "    bot_list = bot_df[\"AAbot\"].dropna().unique().tolist() \n",
    "\n",
    "    # Remove bot-generated comments\n",
    "    df_filtered = df.filter(~col(\"author\").isin(bot_list))\n",
    "\n",
    "    df_filtered = df_filtered.filter(col(\"normalizedBody\").isNotNull())\n",
    "\n",
    "    # lower case, remove special characters and digits\n",
    "    df_cleaned = df_filtered.withColumn(\n",
    "        \"normalizedBody\",\n",
    "        lower(regexp_replace(regexp_replace(col(\"normalizedBody\"), r'[^\\w\\s]', ''), r'\\d+', ''))\n",
    "    )\n",
    "\n",
    "    # dropt author column\n",
    "    df_cleaned = df_cleaned.drop(\"author\")\n",
    "    \n",
    "    ############################ Sentiment Analysis ############################\n",
    "    def load_words_from_csv(filepath):\n",
    "        with open(filepath, \"r\") as file:\n",
    "            lines = file.read().splitlines()  # read all lines at once\n",
    "        \n",
    "        lines = lines[1:]  # skip header\n",
    "\n",
    "        return set(word.strip() for word in lines if word)  # remove empty lines\n",
    "\n",
    "    positive_words = load_words_from_csv(positive_words_file)\n",
    "    negative_words = load_words_from_csv(negative_words_file)\n",
    "\n",
    "    # Define sentiment analysis function\n",
    "    def analyze_sentiment(text):\n",
    "        if not text:\n",
    "            return 0 # neutral\n",
    "        words = text.lower().split()\n",
    "\n",
    "        # dictionary with word counts\n",
    "        word_counts = Counter(words)\n",
    "    \n",
    "        # Count positive and negative words using intersection with the word counts\n",
    "        pos_count = sum(word_counts[word] for word in words if word in positive_words)\n",
    "        neg_count = sum(word_counts[word] for word in words if word in negative_words)\n",
    "\n",
    "        # labeling with integers to simplify postive-to-negative calculations\n",
    "        if pos_count > neg_count:\n",
    "            return 1 # positive\n",
    "        elif neg_count > pos_count:\n",
    "            return -1 # negative\n",
    "        return 0 # neutral\n",
    "    \n",
    "    # Register UDF\n",
    "    sentiment_udf = udf(analyze_sentiment, IntegerType())\n",
    "\n",
    "    # Apply sentiment analysis\n",
    "    df_result = df_cleaned.withColumn(\"sentiment\", sentiment_udf(col(\"normalizedBody\")))\n",
    "    \n",
    "    ################## Finding Top 5 Positive/Negative Subreddits #####################\n",
    "    # group by subreddit and count total posts and sum of sentiment. filter out subreddits with few posts\n",
    "    df_sentiment = df_result.groupBy(\"subreddit\").agg(\n",
    "        count(\"*\").alias(\"total_posts\"),\n",
    "        F.sum(col(\"sentiment\")).alias(\"sentiment_sum\")\n",
    "    ).filter(col(\"total_posts\") > 50)\n",
    "\n",
    "    # compute sentiment ratio (sentiment_sum / total_posts)\n",
    "    df_sentiment = df_sentiment.withColumn(\n",
    "        \"sentiment_ratio\", col(\"sentiment_sum\") / col(\"total_posts\")\n",
    "    )\n",
    "\n",
    "    # get top 5 most positive and most negative subreddits\n",
    "    df_sentiment = df_sentiment.orderBy(col(\"sentiment_ratio\").desc())\n",
    "    top_positive = df_sentiment.limit(5)\n",
    "    top_negative = df_sentiment.orderBy(col(\"sentiment_ratio\").asc()).limit(5)\n",
    "\n",
    "    return df_result, top_positive, top_negative"
   ]
  },
  {
   "cell_type": "markdown",
   "id": "4024684f-4481-4551-a7ed-46c2b5528398",
   "metadata": {},
   "source": [
    "## Top 5 most positive/negative subreddits\n",
    "    - based on (positve_posts - negative_posts)/total_posts"
   ]
  },
  {
   "cell_type": "code",
   "execution_count": null,
   "id": "d9512a18-f89a-48e0-b612-aeb6f6d36b34",
   "metadata": {
    "editable": true,
    "slideshow": {
     "slide_type": ""
    },
    "tags": []
   },
   "outputs": [],
   "source": [
    "spark_session = create_spark_session(num_workers=3)\n",
    "spark_context = spark_session.sparkContext\n",
    "sqlContext = SQLContext(spark_context)\n",
    "\n",
    "df = sqlContext.read.json(\"hdfs://192.168.2.46:9000/data/corpus-webis-tldr-17.json\")"
   ]
  },
  {
   "cell_type": "code",
   "execution_count": 7,
   "id": "9c61fe12-5124-4405-9c0b-836550717439",
   "metadata": {
    "editable": true,
    "slideshow": {
     "slide_type": ""
    },
    "tags": []
   },
   "outputs": [
    {
     "name": "stderr",
     "output_type": "stream",
     "text": [
      "                                                                                "
     ]
    },
    {
     "name": "stdout",
     "output_type": "stream",
     "text": [
      "+-------------+-----------+-------------+------------------+\n",
      "|    subreddit|total_posts|sentiment_sum|   sentiment_ratio|\n",
      "+-------------+-----------+-------------+------------------+\n",
      "|   DankNation|        441|          408|0.9251700680272109|\n",
      "|     Sexsells|         58|           49|0.8448275862068966|\n",
      "|BDSMpersonals|         80|           65|            0.8125|\n",
      "|    ESOGuilds|         71|           57|0.8028169014084507|\n",
      "|         love|        127|           99|0.7795275590551181|\n",
      "+-------------+-----------+-------------+------------------+\n",
      "\n"
     ]
    },
    {
     "name": "stderr",
     "output_type": "stream",
     "text": [
      "[Stage 4:======================================================>(146 + 1) / 147]"
     ]
    },
    {
     "name": "stdout",
     "output_type": "stream",
     "text": [
      "+----------+-----------+-------------+--------------------+\n",
      "| subreddit|total_posts|sentiment_sum|     sentiment_ratio|\n",
      "+----------+-----------+-------------+--------------------+\n",
      "|     Anger|        101|          -42| -0.4158415841584158|\n",
      "|    eczema|        124|          -36| -0.2903225806451613|\n",
      "|misophonia|        130|          -34|-0.26153846153846155|\n",
      "|vaginismus|         57|          -14|-0.24561403508771928|\n",
      "|      Endo|        121|          -29| -0.2396694214876033|\n",
      "+----------+-----------+-------------+--------------------+\n",
      "\n"
     ]
    },
    {
     "name": "stderr",
     "output_type": "stream",
     "text": [
      "                                                                                "
     ]
    }
   ],
   "source": [
    "_, top_positive, top_negative = sentiment_analysis(df)\n",
    "top_positive.show()\n",
    "top_negative.show()"
   ]
  },
  {
   "cell_type": "code",
   "execution_count": 8,
   "id": "484692dd-45de-4c1b-b940-d2a4ccb5124c",
   "metadata": {
    "editable": true,
    "slideshow": {
     "slide_type": ""
    },
    "tags": []
   },
   "outputs": [],
   "source": [
    "spark_session.stop()"
   ]
  },
  {
   "cell_type": "markdown",
   "id": "31857c3a-da8b-4289-a82f-c3dde866a596",
   "metadata": {},
   "source": [
    "## Horizontal scalability test\n",
    "    - experiment ran with 1-4 workers and 8 cores per worker"
   ]
  },
  {
   "cell_type": "code",
   "execution_count": 3,
   "id": "42b9a8a4-90f4-4e5c-9c23-400e7bce2abd",
   "metadata": {},
   "outputs": [
    {
     "name": "stderr",
     "output_type": "stream",
     "text": [
      "Setting default log level to \"WARN\".\n",
      "To adjust logging level use sc.setLogLevel(newLevel). For SparkR, use setLogLevel(newLevel).\n",
      "25/03/13 17:57:51 WARN NativeCodeLoader: Unable to load native-hadoop library for your platform... using builtin-java classes where applicable\n",
      "/home/ubuntu/.local/lib/python3.10/site-packages/pyspark/sql/context.py:113: FutureWarning: Deprecated in 3.0.0. Use SparkSession.builder.getOrCreate() instead.\n",
      "  warnings.warn(\n",
      "                                                                                "
     ]
    },
    {
     "name": "stdout",
     "output_type": "stream",
     "text": [
      "Test with 1 workers completed in 761.98 sec\n",
      "Time to load in data: 332.74 sec\n",
      "Time to perform data processing task: 429.25 sec\n"
     ]
    },
    {
     "name": "stderr",
     "output_type": "stream",
     "text": [
      "/home/ubuntu/.local/lib/python3.10/site-packages/pyspark/sql/context.py:113: FutureWarning: Deprecated in 3.0.0. Use SparkSession.builder.getOrCreate() instead.\n",
      "  warnings.warn(\n",
      "                                                                                "
     ]
    },
    {
     "name": "stdout",
     "output_type": "stream",
     "text": [
      "Test with 2 workers completed in 514.08 sec\n",
      "Time to load in data: 214.75 sec\n",
      "Time to perform data processing task: 299.34 sec\n"
     ]
    },
    {
     "name": "stderr",
     "output_type": "stream",
     "text": [
      "/home/ubuntu/.local/lib/python3.10/site-packages/pyspark/sql/context.py:113: FutureWarning: Deprecated in 3.0.0. Use SparkSession.builder.getOrCreate() instead.\n",
      "  warnings.warn(\n",
      "                                                                                "
     ]
    },
    {
     "name": "stdout",
     "output_type": "stream",
     "text": [
      "Test with 3 workers completed in 482.76 sec\n",
      "Time to load in data: 258.11 sec\n",
      "Time to perform data processing task: 224.65 sec\n"
     ]
    },
    {
     "name": "stderr",
     "output_type": "stream",
     "text": [
      "/home/ubuntu/.local/lib/python3.10/site-packages/pyspark/sql/context.py:113: FutureWarning: Deprecated in 3.0.0. Use SparkSession.builder.getOrCreate() instead.\n",
      "  warnings.warn(\n",
      "                                                                                "
     ]
    },
    {
     "name": "stdout",
     "output_type": "stream",
     "text": [
      "Test with 4 workers completed in 354.92 sec\n",
      "Time to load in data: 197.99 sec\n",
      "Time to perform data processing task: 156.94 sec\n"
     ]
    }
   ],
   "source": [
    "from scalability_testing import *\n",
    "exc_times = []\n",
    "data_load_times = []\n",
    "processing_times = []\n",
    "workers = [1, 2, 3, 4] \n",
    "for num_workers in workers:\n",
    "    execution_time, data_load_time, processing_time = scalability_test(job=sentiment_analysis, num_workers=num_workers)\n",
    "    exc_times.append(execution_time)\n",
    "    data_load_times.append(data_load_time)\n",
    "    processing_times.append(processing_time)"
   ]
  },
  {
   "cell_type": "code",
   "execution_count": 7,
   "id": "d31a3c2c-9a4b-4263-a77e-32d43d3c077e",
   "metadata": {},
   "outputs": [
    {
     "data": {
      "image/png": "[encoded data removed]",
      "text/plain": [
       "<Figure size 640x480 with 1 Axes>"
      ]
     },
     "metadata": {},
     "output_type": "display_data"
    }
   ],
   "source": [
    "import matplotlib.pyplot as plt\n",
    "\n",
    "plt.plot(workers, exc_times, 'o--', label=\"Total Execution Time\")\n",
    "plt.plot(workers, data_load_times, 'o--', label=\"Data Load Time\")\n",
    "plt.plot(workers, processing_times, 'o--', label=\"Processing Time\")\n",
    "plt.xlabel(\"Number of Workers\")\n",
    "plt.ylabel(\"Time (s)\")\n",
    "plt.legend()\n",
    "plt.grid()\n",
    "plt.show()"
   ]
  }
 ],
 "metadata": {
  "kernelspec": {
   "display_name": "Python 3 (ipykernel)",
   "language": "python",
   "name": "python3"
  },
  "language_info": {
   "codemirror_mode": {
    "name": "ipython",
    "version": 3
   },
   "file_extension": ".py",
   "mimetype": "text/x-python",
   "name": "python",
   "nbconvert_exporter": "python",
   "pygments_lexer": "ipython3",
   "version": "3.10.12"
  }
 },
 "nbformat": 4,
 "nbformat_minor": 5
}
