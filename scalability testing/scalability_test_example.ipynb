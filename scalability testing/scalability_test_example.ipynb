{
 "cells": [
  {
   "cell_type": "code",
   "execution_count": null,
   "metadata": {
    "vscode": {
     "languageId": "plaintext"
    }
   },
   "outputs": [],
   "source": [
    "from scalability_testing import *\n",
    "from pyspark.sql import SparkSession\n",
    "from pyspark.sql.functions import avg\n",
    "\n",
    "\n",
    "def avg_text_len_per_sub(df):\n",
    "    \"\"\"\n",
    "    Calculate the average text length per subreddit\n",
    "\n",
    "    Args:\n",
    "    - df: The input DataFrame containing the 'subreddit' and 'content_len' columns.\n",
    "\n",
    "    Returns:\n",
    "    - A DataFrame with 'subreddit' and 'avg_content_length' columns, ordered by avg_content_length.\n",
    "    \"\"\"\n",
    "    return (\n",
    "        df.groupBy(\"subreddit\")\n",
    "        .agg(avg(\"content_len\").alias(\"avg_content_length\"))\n",
    "        .orderBy(\"avg_content_length\", ascending=False)\n",
    "    )"
   ]
  },
  {
   "cell_type": "code",
   "execution_count": null,
   "metadata": {
    "vscode": {
     "languageId": "plaintext"
    }
   },
   "outputs": [],
   "source": [
    "# example with calculating the average content length per subreddit\n",
    "workers = [1, 2, 3, 4]\n",
    "exc_times = []\n",
    "for num_workers in workers:\n",
    "    horizontal_scalability_test(job=avg_text_len_per_sub, num_workers=num_workers) "
   ]
  }
 ],
 "metadata": {
  "language_info": {
   "name": "python"
  }
 },
 "nbformat": 4,
 "nbformat_minor": 2
}
