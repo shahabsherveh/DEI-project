{
 "cells": [
  {
   "cell_type": "code",
   "execution_count": 1,
   "id": "6151307a-f751-45d1-b940-537e6a721fd8",
   "metadata": {},
   "outputs": [],
   "source": [
    "import pyspark as ps"
   ]
  },
  {
   "cell_type": "code",
   "execution_count": 2,
   "id": "8ae20900-4089-4593-8c75-3f38e23bf7df",
   "metadata": {},
   "outputs": [],
   "source": [
    "conf = ps.SparkConf().setMaster('spark://192.168.2.46:7077').setAppName('splitData')\\\n",
    ".set('spark.cores.max',16)\\\n",
    ".set('spark.executor.cores', 4)"
   ]
  },
  {
   "cell_type": "code",
   "execution_count": 3,
   "id": "8b173131-f959-4242-960a-5f75ce70fe14",
   "metadata": {},
   "outputs": [
    {
     "name": "stderr",
     "output_type": "stream",
     "text": [
      "Setting default log level to \"WARN\".\n",
      "To adjust logging level use sc.setLogLevel(newLevel). For SparkR, use setLogLevel(newLevel).\n",
      "25/03/09 09:12:01 WARN NativeCodeLoader: Unable to load native-hadoop library for your platform... using builtin-java classes where applicable\n"
     ]
    }
   ],
   "source": [
    "context = ps.SparkContext(conf=conf)"
   ]
  },
  {
   "cell_type": "code",
   "execution_count": 4,
   "id": "742538f8-4ad5-4786-9969-6f97441127bc",
   "metadata": {},
   "outputs": [],
   "source": [
    "data = context.textFile('hdfs://192.168.2.46:9000/data/corpus-webis-tldr-17.json')"
   ]
  },
  {
   "cell_type": "code",
   "execution_count": 43,
   "id": "22ca5139-8a57-41c9-ae96-14dd132fc9dc",
   "metadata": {},
   "outputs": [],
   "source": [
    "data_one_percent = data.sample(False, 0.01)"
   ]
  },
  {
   "cell_type": "code",
   "execution_count": 44,
   "id": "adf68fca-d233-4eae-86b1-f145193e0d1e",
   "metadata": {},
   "outputs": [
    {
     "name": "stderr",
     "output_type": "stream",
     "text": [
      "                                                                                "
     ]
    }
   ],
   "source": [
    "data_one_percent.saveAsTextFile('hdfs://192.168.2.46:9000/data/reddit_1percent.json')"
   ]
  },
  {
   "cell_type": "code",
   "execution_count": 5,
   "id": "9cedbf3c-08d0-4517-91cc-23e894674fc3",
   "metadata": {},
   "outputs": [],
   "source": [
    "context.stop()"
   ]
  }
 ],
 "metadata": {
  "kernelspec": {
   "display_name": "Python 3 (ipykernel)",
   "language": "python",
   "name": "python3"
  },
  "language_info": {
   "codemirror_mode": {
    "name": "ipython",
    "version": 3
   },
   "file_extension": ".py",
   "mimetype": "text/x-python",
   "name": "python",
   "nbconvert_exporter": "python",
   "pygments_lexer": "ipython3",
   "version": "3.10.12"
  }
 },
 "nbformat": 4,
 "nbformat_minor": 5
}
